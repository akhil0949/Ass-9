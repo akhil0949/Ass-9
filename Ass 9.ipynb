{
 "cells": [
  {
   "cell_type": "code",
   "execution_count": null,
   "id": "556d32ed",
   "metadata": {},
   "outputs": [],
   "source": [
    "1. Write a Python Program to Check if a Number is Positive, Negative or Zero?\n",
    "Ans)\n",
    "n = int(input(\"enter a number: \"))\n",
    "if n >= 0:\n",
    "    print(\"the number is positive.\")\n",
    "else:\n",
    "    print(\"the number is negative\")"
   ]
  },
  {
   "cell_type": "code",
   "execution_count": null,
   "id": "d45e8be1",
   "metadata": {},
   "outputs": [],
   "source": [
    "2. Write a Python Program to Check if a Number is Odd or Even?\n",
    "Ans)\n",
    "n = int(input(\"enter a number:\"))\n",
    "if n%2 == 0:\n",
    "    print(\"the number is even:\")\n",
    "else:\n",
    "    print(\"the number is odd\")"
   ]
  },
  {
   "cell_type": "code",
   "execution_count": null,
   "id": "db9c72d5",
   "metadata": {},
   "outputs": [],
   "source": [
    "3. Write a Python Program to Check Leap Year?\n",
    "Ans)\n",
    "year = int(input(\"enter a year:\"))\n",
    "if (year % 400 == 0) and (year % 100 == 0):\n",
    "    print(\"the year is a leap year:\" , year)\n",
    "elif (year % 4 ==0) and (year % 100 != 0):\n",
    "    print(\"is a leap year\", year) \n",
    "else:\n",
    "    print(year , \"is not a leap year\")"
   ]
  },
  {
   "cell_type": "code",
   "execution_count": null,
   "id": "c0b42532",
   "metadata": {},
   "outputs": [],
   "source": [
    "4. Write a Python Program to Check Prime Number?\n",
    "Ans)\n",
    "n = int(input(\"enter a year:\"))\n",
    "if n%2 != 0:\n",
    "    print(\"the number is prime:\")\n",
    "else:\n",
    "    print(\"the number is even\")"
   ]
  },
  {
   "cell_type": "code",
   "execution_count": null,
   "id": "59264496",
   "metadata": {},
   "outputs": [],
   "source": [
    "5. Write a Python Program to Print all Prime Numbers in an Interval of 1-10000?\n",
    "Ans)\n",
    "for num in range(1,1001):\n",
    "    if num > 1:\n",
    "        for i in range(2,num):\n",
    "            if (num % i) == 0:\n",
    "                break\n",
    "        else:\n",
    "            print(num,\"is a prime number!\")"
   ]
  }
 ],
 "metadata": {
  "kernelspec": {
   "display_name": "Python 3",
   "language": "python",
   "name": "python3"
  },
  "language_info": {
   "codemirror_mode": {
    "name": "ipython",
    "version": 3
   },
   "file_extension": ".py",
   "mimetype": "text/x-python",
   "name": "python",
   "nbconvert_exporter": "python",
   "pygments_lexer": "ipython3",
   "version": "3.6.13"
  }
 },
 "nbformat": 4,
 "nbformat_minor": 5
}
